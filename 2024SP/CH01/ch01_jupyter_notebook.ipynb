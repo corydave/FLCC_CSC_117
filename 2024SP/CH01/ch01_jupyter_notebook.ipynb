{
 "cells": [
  {
   "cell_type": "markdown",
   "metadata": {},
   "source": [
    "# Chapter 1 - Basic Output"
   ]
  },
  {
   "cell_type": "markdown",
   "metadata": {},
   "source": [
    "## History of `print`\n",
    "\n",
    "In the Dark Ages of computers - before *monitors* existed - we would use *printers* to see the output of a program. Can you believe that? What a waste of paper! Like, every time we wanted to see the results of running software we would have to send the output to a printer, wait for the printer to print, and then look at the output.\n",
    "\n",
    "In fact, the popular computer game **The Oregon Trail** (you know, \"You died of dysentery\" fame) was played this way! The classroom had a *teletype* machine (kind of like a typewriter that was hooked up to a computer). You could type in input and the input would go to a computer in a closet somewhere and send the results back to the teletype. You can [read about the history of **The Oregon Trail** here](https://www.fastcompany.com/90702587/oregon-trail-computer-game-50th-anniversary). It's bonkers. In fact, the computer game predates the paper version of Dungeons and Dragons!\n",
    "\n",
    "Anyhow, the reason this is important is that you need to understand that in computer programming languages the term `print` still lingers. It's evolved over the years to mean \"print the output on the computer monitor instead of print on an actual printer\". So when you see the term `print` in most languages, it really means that the results will be displayed on the screen."
   ]
  },
  {
   "cell_type": "markdown",
   "metadata": {},
   "source": [
    "## Different ways to use `print` in Python\n",
    "\n",
    "Check out the code below. It's only one line of code (but it is super easy to predict what is going to happen). Press the green triangle to *execute* (that means \"run\") the code:"
   ]
  },
  {
   "cell_type": "code",
   "execution_count": null,
   "metadata": {},
   "outputs": [],
   "source": [
    "print('This is the clock song, I am setting all the clocks wrong')"
   ]
  },
  {
   "cell_type": "markdown",
   "metadata": {},
   "source": [
    "If you guessed that the output would be \"This is the clock song, I am setting all the clocks wrong\", then you were correct! But there's a few things you should know about Python:\n",
    "\n",
    "1. Anything in the quotes is called a *string literal* because, literally, it is outputting exactly what is in the quotes.\n",
    "2. You can use single quotes or double quotes to output a *string* (though you should be consistent in your programming).\n",
    "3. Things get a little dicey when we start adding in *variables* - but that won't be until later."
   ]
  },
  {
   "cell_type": "markdown",
   "metadata": {},
   "source": [
    "### Using double quotes\n",
    "\n",
    "Here are two different lines of code that do exactly the same thing:"
   ]
  },
  {
   "cell_type": "code",
   "execution_count": null,
   "metadata": {},
   "outputs": [],
   "source": [
    "print('This is the clock song, I am setting all the clocks wrong')\n",
    "print(\"This is the clock song, I am setting all the clocks wrong\")"
   ]
  },
  {
   "cell_type": "markdown",
   "metadata": {},
   "source": [
    "There is an advantage of using the double quotes; if you wanted to use a contraction for \"I am\", you would want to use \"I'm\". This is problematic if you are using single quotes as the apostrophe in \"I'm\" would be interpreted as the ending single quote for the string! In the code below, we can see that there are single quotes in the `print` statement but there is an error in the code because of the apostrophe. Your job is to fix this so the code runs. You can run the code, see the error, and then modify the code and run it again. And again. And again."
   ]
  },
  {
   "cell_type": "code",
   "execution_count": 1,
   "metadata": {},
   "outputs": [
    {
     "ename": "SyntaxError",
     "evalue": "unterminated string literal (detected at line 1) (3335939816.py, line 1)",
     "output_type": "error",
     "traceback": [
      "\u001b[0;36m  Cell \u001b[0;32mIn[1], line 1\u001b[0;36m\u001b[0m\n\u001b[0;31m    print('This is the clock song, I'm setting all the clocks wrong')\u001b[0m\n\u001b[0m                                                                   ^\u001b[0m\n\u001b[0;31mSyntaxError\u001b[0m\u001b[0;31m:\u001b[0m unterminated string literal (detected at line 1)\n"
     ]
    }
   ],
   "source": [
    "print('This is the clock song, I'm setting all the clocks wrong')"
   ]
  },
  {
   "cell_type": "markdown",
   "metadata": {},
   "source": [
    "<details>\n",
    "  <summary>\n",
    "    Click here to reveal the solution\n",
    "   \n",
    "  </summary>\n",
    "  <p>\n",
    "    <code>\n",
    "    print(\"This is the clock song, I'm setting all the clocks wrong\")\n",
    "    </code>\n",
    "  </p>\n",
    "</details>\n"
   ]
  },
  {
   "cell_type": "markdown",
   "metadata": {},
   "source": [
    "### Escape characters\n",
    "\n",
    "Now you might ask yourself, \"Self, what if I really like using single quotes - how can I output apostrophes?\". And that's a natural question. Turns out Python has a solution - it's called the *escape character*. Most languages have this; it's an avenue that let's us programmers output characters that otherwise cause issues. "
   ]
  },
  {
   "cell_type": "code",
   "execution_count": null,
   "metadata": {},
   "outputs": [],
   "source": [
    "print('This is the clock song, I\\'m setting all the clocks wrong')\n",
    "print(\"Sharks with \\\"laser beams\\\" on their heads.\")"
   ]
  },
  {
   "cell_type": "markdown",
   "metadata": {},
   "source": [
    "Austin Powers fans should be releaved to know you can include double quotes in your `print` statements! Here is a list of all escape charcters in Python:\n",
    "\n",
    "```\n",
    "\\n - newline\n",
    "\\t - tab\n",
    "\\r - carriage return\n",
    "\\\\ - backslash\n",
    "\\' - single quote\n",
    "\\\" - double quote\n",
    "```\n",
    "\n",
    "Note that a REAL common mistake is to use the wrong slash:\n",
    "\n",
    "`/'` will definitely not display a single quote/apostrophe, and, if you type it, ***your computer will explode***."
   ]
  },
  {
   "cell_type": "markdown",
   "metadata": {},
   "source": [
    "### Multiple *parameters* in `print` statements\n",
    "\n",
    "Sometimes you will want to output multiple things in the same `print` statement. The following code demonstrates two different ways. Yes, it's true you could use `print('YOU are awesome!')` - that would be the best solution in this case. But there will be times when we have multiple things to output so you should know how to handle it. Notice the way the spacing differs between these two methods:"
   ]
  },
  {
   "cell_type": "code",
   "execution_count": null,
   "metadata": {},
   "outputs": [],
   "source": [
    "print('YOU', 'are', 'awesome!')\n",
    "print('YOU' + 'are' + 'awesome!')"
   ]
  },
  {
   "cell_type": "markdown",
   "metadata": {},
   "source": [
    "Here's a more concrete example of why you might want to know how spacing works. I know we haven't looked at *variables* yet (that's coming up in another chapter), but lemme give you a taste of what a *variable* is. A *variable* is a thing in Python that let's you store information. And, unlike variables in math class, the value can change. So in the example below, we'll have a variable called `age` and we will give it a value of `44`.\n",
    "\n",
    "Use your power of prediction to guess what happens when you execute the following code:"
   ]
  },
  {
   "cell_type": "code",
   "execution_count": null,
   "metadata": {},
   "outputs": [],
   "source": [
    "age = 44\n",
    "print(age)"
   ]
  },
  {
   "cell_type": "markdown",
   "metadata": {},
   "source": [
    "If you guessed that the output would be `44`, you are correct. Now let's add more to the output. This is why you need to know the difference between `+` and `,` in your `print` statements:"
   ]
  },
  {
   "cell_type": "code",
   "execution_count": null,
   "metadata": {},
   "outputs": [],
   "source": [
    "print('You\\'re current age is', age)"
   ]
  },
  {
   "cell_type": "markdown",
   "metadata": {},
   "source": [
    "Now try to change the comma to a `+` sign and see what happens. Spoiler alert: it ain't good. We'll get to **why** this is the case in another chapter; for right now, just plan on using commas. Of course, this begs the question, \"How do I **not** have a space between a string (text) and a variable that is a number?\""
   ]
  },
  {
   "cell_type": "code",
   "execution_count": null,
   "metadata": {},
   "outputs": [],
   "source": [
    "version = 1.210005\n",
    "print('Current version is v', version)"
   ]
  },
  {
   "cell_type": "markdown",
   "metadata": {},
   "source": [
    "<details>\n",
    "  <summary>\n",
    "    You don't need to know the answer to this quite yet, but if you are curious, click here to reveal the code.\n",
    "   \n",
    "  </summary>\n",
    "  <p>\n",
    "    <code>version = 1.210005<br />\n",
    "    print('Current version is v%f' %version )\n",
    "    </code>\n",
    "    <br />\n",
    "    <br />\n",
    "    Yeah, I know this looks confusing. We'll go into this a bit more when we examine variables. But if it helps contextualize what is happening, the <code>f</code> stands for <code>float</code>, which is computer nerdspeak for \"decimal\". The actual output of running this code is:\n",
    "    <br />\n",
    "    <br />\n",
    "    <code>Current version is v1.210005</code>\n",
    "  </p>\n",
    "</details>\n"
   ]
  },
  {
   "cell_type": "markdown",
   "metadata": {},
   "source": [
    "# Comments\n",
    "\n",
    "The last thing you need to know about before we get started with some simple programs is the notion of *comments*. A *comment* is code that is not read by the computer. Using comments is handy for a few different reasons:\n",
    "\n",
    "1. **Creating an outline.** Whenever I sit down to write software, I *always* use comments and write down each step of the program. This is like an outline. Then, once I plan it out, I start adding actual code.\n",
    "\n",
    "2. **Add information right in your code**. When people read your code (or when you look at your code a week or a year from now) it is easy to get a feel for what the code does.\n",
    "\n",
    "3. **Attribution**. You should always put your own name, date, and description of the software in your code. I recommend doing that right at the top of the code. If you use code from somewhere else or you get help from, say, ChatGPT, you need to include that in comments in your code.\n",
    "\n",
    "4. ***Debugging***! If your code doesn't work as expected, but you don't know the exact line of code that is causing the error, you can \"comment out\" some lines of code - they won't run when the program runs. If you don't experience any issues, you can \"uncomment\" some of the lines that weren't run and see if those lines give you an error. If they do, then you know what is causing the problem.\n",
    "\n",
    "5. **\"TODO\" lists**. When I write code, I often use comments to make a list of things I want to do the program but haven't gotten around to yet.\n",
    "\n",
    "Here is some code with comments in it. Note that you just need to use `#` to add a comment. You can comment out a full line or part of a line of code. Should you try to execute this code, a textbox will appear asking you to input your name:"
   ]
  },
  {
   "cell_type": "code",
   "execution_count": null,
   "metadata": {},
   "outputs": [],
   "source": [
    "# AUTHOR - Dave Ghidiu\n",
    "# STARTING DATE - September 5, 2023\n",
    "# DESCRIPTION - This code will ask the user for their name and then output \"Hello, <whatever they type in>\"\n",
    "\n",
    "# Ask the user for their name and store it in the variable called `name`\n",
    "name = input('Enter your name:')\n",
    "\n",
    "# Output the string `Hello,` followed by whatever name they typed in\n",
    "print('Hello,', name) "
   ]
  },
  {
   "cell_type": "markdown",
   "metadata": {},
   "source": [
    "Oftentimes you'll see me add comments to the end of a line of code; that just gives more context to the code. I like to use it to show what the output on the screen will be if you run the code."
   ]
  },
  {
   "cell_type": "code",
   "execution_count": null,
   "metadata": {},
   "outputs": [],
   "source": [
    "num_one = 10\n",
    "num_two = 5\n",
    "print(10 * 2) # 20"
   ]
  },
  {
   "cell_type": "markdown",
   "metadata": {},
   "source": [
    "## Now go program!\n",
    "\n",
    "The labs in this chapter are very lightweight; you'll be submitting a few different programs **that only require you to use `print` statements**. No need to get fancy with loops and stuff (that will come later). If you have any problems, let me know!"
   ]
  }
 ],
 "metadata": {
  "kernelspec": {
   "display_name": "Python 3 (ipykernel)",
   "name": "python3"
  },
  "language_info": {
   "codemirror_mode": {
    "name": "ipython",
    "version": 3
   },
   "file_extension": ".py",
   "mimetype": "text/x-python",
   "name": "python",
   "nbconvert_exporter": "python",
   "pygments_lexer": "ipython3",
   "version": "3.0.0"
  },
  "orig_nbformat": 2
 },
 "nbformat": 4,
 "nbformat_minor": 2
}
